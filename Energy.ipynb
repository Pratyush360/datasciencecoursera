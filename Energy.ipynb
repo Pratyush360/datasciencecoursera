{
 "cells": [
  {
   "cell_type": "code",
   "execution_count": 88,
   "metadata": {
    "collapsed": true
   },
   "outputs": [],
   "source": [
    "import pandas as pd\n",
    "from math import sqrt\n",
    "import numpy as np\n",
    "import matplotlib.pyplot as plt\n",
    "import seaborn as sns\n",
    "from random import randrange\n",
    "from statistics import mean,stdev\n",
    "from statsmodels.stats.outliers_influence import variance_inflation_factor\n",
    "from sklearn.decomposition import PCA\n",
    "from sklearn import model_selection\n",
    "from sklearn.preprocessing import MinMaxScaler, StandardScaler, Normalizer, Binarizer\n",
    "from sklearn import linear_model\n",
    "from sklearn import svm\n",
    "from sklearn.metrics import mean_squared_error, r2_score"
   ]
  },
  {
   "cell_type": "code",
   "execution_count": 89,
   "metadata": {
    "collapsed": true
   },
   "outputs": [],
   "source": [
    "names = ['Id','kitchtmp','kitchhum','livtmp','livhum','lautmp','lauhum','offtmp','offhum','bathtmp','bathhum','outntmp','outnhum','irontmp','ironhum','teentmp','teenhum','partmp','parhum','outtmp','outprsr','outhum','wndspd','visibility','dewpnt','energy']\n",
    "df = pd.read_csv(\"D:/Program_files/Python/energy/train.csv\",names=names,header=0)\n",
    "df=df.drop(['Id'],axis=1)\n",
    "names2 = ['Id','kitchtmp','kitchhum','livtmp','livhum','lautmp','lauhum','offtmp','offhum','bathtmp','bathhum','outntmp','outnhum','irontmp','ironhum','teentmp','teenhum','partmp','parhum','outtmp','outprsr','outhum','wndspd','visibility','dewpnt']\n",
    "df3 = pd.read_csv(\"D:/Program_files/Python/energy/test.csv\",names=names2,header=0)"
   ]
  },
  {
   "cell_type": "code",
   "execution_count": 90,
   "metadata": {
    "collapsed": true
   },
   "outputs": [],
   "source": [
    "def fun2(df,strng):\n",
    "    q75, q25 = np.percentile(df[strng], [75, 25])\n",
    "    iqr = q75 - q25\n",
    "\n",
    "    mn = q25 - iqr*1.5\n",
    "    mx = q75 + iqr*1.5\n",
    "    df = df.loc[(df[strng]>mn) & (df[strng]<mx)]\n",
    "    return df"
   ]
  },
  {
   "cell_type": "code",
   "execution_count": 91,
   "metadata": {},
   "outputs": [],
   "source": [
    "df = fun2(df,'energy')\n",
    "df = fun2(df,'bathhum')\n",
    "df = fun2(df,'outprsr')\n",
    "df = fun2(df,'wndspd')"
   ]
  },
  {
   "cell_type": "code",
   "execution_count": 92,
   "metadata": {},
   "outputs": [
    {
     "data": {
      "text/plain": [
       "(12878, 24)"
      ]
     },
     "execution_count": 92,
     "metadata": {},
     "output_type": "execute_result"
    }
   ],
   "source": [
    "y = df['energy'].values\n",
    "df = df.drop(['energy'],axis=1)\n",
    "#df = df.drop(['kitchtmp','kitchhum','livtmp','livhum','lautmp','lauhum','offtmp','offhum','bathtmp','outntmp','outnhum','irontmp','ironhum','teentmp','teenhum','partmp','parhum','outtmp','outhum','dewpnt','energy'],axis=1)\n",
    "X = df.values\n",
    "X.shape"
   ]
  },
  {
   "cell_type": "code",
   "execution_count": 93,
   "metadata": {
    "collapsed": true
   },
   "outputs": [],
   "source": [
    "X_train,X_val,y_train,y_val = model_selection.train_test_split(X,y,test_size=0.20,random_state=0)"
   ]
  },
  {
   "cell_type": "code",
   "execution_count": 94,
   "metadata": {},
   "outputs": [
    {
     "data": {
      "text/plain": [
       "(3945, 24)"
      ]
     },
     "execution_count": 94,
     "metadata": {},
     "output_type": "execute_result"
    }
   ],
   "source": [
    "Id = df3['Id']\n",
    "df3 = df3.drop(['Id'],axis=1)\n",
    "X_test = df3.values\n",
    "X_test.shape"
   ]
  },
  {
   "cell_type": "code",
   "execution_count": 95,
   "metadata": {},
   "outputs": [],
   "source": [
    "#-----------------------------------------------------------------------\n",
    "#scaler = Normalizer().fit(X)\n",
    "#normalizedX = scaler.transform(X)\n",
    "#scaler = MinMaxScaler(feature_range=(0, 1))\n",
    "#rescaledX = scaler.fit_transform(normalizedX)\n",
    "scaler = StandardScaler()\n",
    "scaler.fit(X_train)\n",
    "X_train = scaler.transform(X_train)\n",
    "X_val = scaler.transform(X_val)\n",
    "X_test = scaler.transform(X_test)"
   ]
  },
  {
   "cell_type": "code",
   "execution_count": 20,
   "metadata": {
    "collapsed": true
   },
   "outputs": [
    {
     "name": "stdout",
     "output_type": "stream",
     "text": [
      "    VIF Factor\n",
      "0    20.955238\n",
      "1    18.432958\n",
      "2    30.290886\n",
      "3    24.804533\n",
      "4    12.057699\n",
      "5    12.317331\n",
      "6     9.888768\n",
      "7    17.771905\n",
      "8    11.916199\n",
      "9     1.677975\n",
      "10   31.868757\n",
      "11    9.885128\n",
      "12   18.749210\n",
      "13   10.456297\n",
      "14    8.483909\n",
      "15    7.999832\n",
      "16   29.146952\n",
      "17    6.502361\n",
      "18  151.598511\n",
      "19    1.409310\n",
      "20   49.530590\n",
      "21    1.600941\n",
      "22    1.044899\n",
      "23   93.496962\n"
     ]
    }
   ],
   "source": [
    "#if vif is greater than 5 then remove multicollinearity\n",
    "vif = pd.DataFrame()\n",
    "vif[\"VIF Factor\"] = [variance_inflation_factor(X_train, i) for i in range(X_train.shape[1])]\n",
    "print(vif)"
   ]
  },
  {
   "cell_type": "code",
   "execution_count": 96,
   "metadata": {},
   "outputs": [
    {
     "name": "stdout",
     "output_type": "stream",
     "text": [
      "[ 9.35077451  7.25237616  1.91808092  1.05162779  0.97911393  0.78192157\n",
      "  0.52820418  0.47579456  0.36728061  0.26052146  0.17181349  0.14353784\n",
      "  0.13606696  0.11032965  0.10803068  0.08622303  0.06677926]\n",
      "[ 0.3896156   0.30218234  0.07992004  0.04381782  0.04079641  0.03258007\n",
      "  0.02200851  0.01982477  0.01530336  0.01085506  0.0071589   0.00598074\n",
      "  0.00566946  0.00459707  0.00450128  0.00359263  0.00278247]\n",
      "[ 0.3896156   0.69179794  0.77171798  0.81553581  0.85633222  0.88891229\n",
      "  0.91092079  0.93074557  0.94604893  0.95690399  0.96406288  0.97004363\n",
      "  0.97571308  0.98031015  0.98481143  0.98840406  0.99118652]\n"
     ]
    }
   ],
   "source": [
    "pca = PCA(.99)\n",
    "pca.fit(X_train)\n",
    "X_train = pca.transform(X_train)\n",
    "X_val = pca.transform(X_val)\n",
    "X_test = pca.transform(X_test)\n",
    "\n",
    "print (pca.explained_variance_)\n",
    "print (pca.explained_variance_ratio_)\n",
    "print (pca.explained_variance_ratio_.cumsum())"
   ]
  },
  {
   "cell_type": "code",
   "execution_count": 97,
   "metadata": {},
   "outputs": [
    {
     "data": {
      "text/plain": [
       "289.43171011143897"
      ]
     },
     "execution_count": 97,
     "metadata": {},
     "output_type": "execute_result"
    }
   ],
   "source": [
    "reg = svm.SVR(kernel = 'rbf',C=500,gamma=0.1,epsilon=10)\n",
    "reg.fit(X_train,y_train)\n",
    "\n",
    "y_predict = reg.predict(X_val)\n",
    "print(mean_squared_error(y_val,y_predict))"
   ]
  },
  {
   "cell_type": "code",
   "execution_count": 98,
   "metadata": {
    "scrolled": true
   },
   "outputs": [
    {
     "name": "stdout",
     "output_type": "stream",
     "text": [
      "0.648879159636\n",
      "0.648879159636\n"
     ]
    }
   ],
   "source": [
    "#print(reg.coef_)\n",
    "print(r2_score(y_val,y_predict))\n",
    "print(reg.score(X_val,y_val))"
   ]
  },
  {
   "cell_type": "code",
   "execution_count": 99,
   "metadata": {},
   "outputs": [],
   "source": [
    "y_test = reg.predict(X_test)"
   ]
  },
  {
   "cell_type": "code",
   "execution_count": 100,
   "metadata": {},
   "outputs": [],
   "source": [
    "y_results=[]\n",
    "for i in range(len(y_test)):\n",
    "    y_results.append(int(y_test[i]))\n",
    "#    print('%f\\t%f\\n' % (y_val[i],y_predict[i]))"
   ]
  },
  {
   "cell_type": "code",
   "execution_count": 101,
   "metadata": {},
   "outputs": [],
   "source": [
    "output = np.column_stack((Id,y_results))\n",
    "df_results = pd.DataFrame(output.astype('int'),columns=['Observation','Energy'])\n",
    "df_results.to_csv('D:/Program_files/Python/energy/results.csv',index=False)"
   ]
  },
  {
   "cell_type": "code",
   "execution_count": null,
   "metadata": {
    "collapsed": true
   },
   "outputs": [],
   "source": []
  }
 ],
 "metadata": {
  "kernelspec": {
   "display_name": "Python 3",
   "language": "python",
   "name": "python3"
  },
  "language_info": {
   "codemirror_mode": {
    "name": "ipython",
    "version": 3
   },
   "file_extension": ".py",
   "mimetype": "text/x-python",
   "name": "python",
   "nbconvert_exporter": "python",
   "pygments_lexer": "ipython3",
   "version": "3.5.3"
  }
 },
 "nbformat": 4,
 "nbformat_minor": 2
}
